{
 "cells": [
  {
   "cell_type": "markdown",
   "metadata": {},
   "source": [
    "# Proyecto integrado 2.\n",
    "\n",
    "# Descripción del proyecto.\n",
    "\n",
    "Trabajas en una empresa emergente que vende productos alimenticios. Debes investigar el comportamiento del usuario para la aplicación de la empresa.\n",
    "\n",
    "Primero, estudia el embudo de ventas. Descubre cómo los usuarios y las usuarias llegan a la etapa de compra. ¿Cuántos usuarios o usuarias realmente llegan a esta etapa? ¿Cuántos se atascan en etapas anteriores? ¿Qué etapas en particular?\n",
    "\n",
    "Luego, observa los resultados de un test A/A/B. (Sigue leyendo para obtener más información sobre los test A/A/B). Al equipo de diseño le gustaría cambiar las fuentes de toda la aplicación, pero la gerencia teme que los usuarios y las usuarias piensen que el nuevo diseño es intimidante. Por ello, deciden tomar una decisión basada en los resultados de un test A/A/B.\n",
    "\n",
    "Los usuarios se dividen en tres grupos: dos grupos de control obtienen las fuentes antiguas y un grupo de prueba obtiene las nuevas. Descubre qué conjunto de fuentes produce mejores resultados.\n",
    "\n",
    "Crear dos grupos A tiene ciertas ventajas. Podemos establecer el principio de que solo confiaremos en la exactitud de nuestras pruebas cuando los dos grupos de control sean similares. Si hay diferencias significativas entre los grupos A, esto puede ayudarnos a descubrir factores que pueden estar distorsionando los resultados. La comparación de grupos de control también nos dice cuánto tiempo y datos necesitaremos cuando realicemos más tests.\n",
    "\n",
    "Utilizarás el mismo dataset para el análisis general y para el análisis A/A/B. En proyectos reales, los experimentos se llevan a cabo constantemente. El equipo de análisis estudia la calidad de una aplicación utilizando datos generales, sin prestar atención a si los usuarios y las usuarias participan en experimentos.\n",
    "\n",
    "Descripción de los datos\n",
    "Cada entrada de registro es una acción de usuario o un evento.\n",
    "\n",
    "EventName: nombre del evento.\n",
    "DeviceIDHash: identificador de usuario unívoco.\n",
    "EventTimestamp: hora del evento.\n",
    "ExpId: número de experimento: 246 y 247 son los grupos de control, 248 es el grupo de prueba.\n",
    "Instrucciones para completar el proyecto"
   ]
  },
  {
   "cell_type": "markdown",
   "metadata": {},
   "source": [
    "## Paso 1. Abrir el archivo de datos y leer la información general\n",
    "\n",
    "Ruta de archivo: /datasets/logs_exp_us.csv Descarga el dataset"
   ]
  },
  {
   "cell_type": "markdown",
   "metadata": {},
   "source": [
    "### Inicializacion."
   ]
  },
  {
   "cell_type": "code",
   "execution_count": 1,
   "metadata": {},
   "outputs": [],
   "source": [
    "import pandas as pd\n",
    "import seaborn as sns\n",
    "import matplotlib.pyplot as plt\n",
    "import numpy as np\n",
    "import datetime as dt\n",
    "import scipy.stats as stats"
   ]
  },
  {
   "cell_type": "markdown",
   "metadata": {},
   "source": [
    "### Cargar los datos."
   ]
  },
  {
   "cell_type": "code",
   "execution_count": 2,
   "metadata": {},
   "outputs": [],
   "source": [
    "data = pd.read_csv('/datasets/logs_exp_us.csv', sep='\\t') "
   ]
  },
  {
   "cell_type": "markdown",
   "metadata": {},
   "source": [
    "## Paso 2. Preparar los datos para el análisis\n",
    "\n",
    "Cambia el nombre de las columnas de manera que sea conveniente para ti\n",
    "\n",
    "Comprueba si hay tipos de datos y valores ausentes. Corrige los datos si es necesario\n",
    "\n",
    "Agrega una columna de fecha y hora y una columna separada para las fechas"
   ]
  },
  {
   "cell_type": "markdown",
   "metadata": {},
   "source": [
    "### Preparar los datos."
   ]
  },
  {
   "cell_type": "code",
   "execution_count": 3,
   "metadata": {},
   "outputs": [
    {
     "name": "stdout",
     "output_type": "stream",
     "text": [
      "                 EventName         DeviceIDHash  EventTimestamp  ExpId\n",
      "0         MainScreenAppear  4575588528974610257      1564029816    246\n",
      "1         MainScreenAppear  7416695313311560658      1564053102    246\n",
      "2  PaymentScreenSuccessful  3518123091307005509      1564054127    248\n",
      "3         CartScreenAppear  3518123091307005509      1564054127    248\n",
      "4  PaymentScreenSuccessful  6217807653094995999      1564055322    248 \n",
      "\n",
      "<class 'pandas.core.frame.DataFrame'>\n",
      "RangeIndex: 244126 entries, 0 to 244125\n",
      "Data columns (total 4 columns):\n",
      " #   Column          Non-Null Count   Dtype \n",
      "---  ------          --------------   ----- \n",
      " 0   EventName       244126 non-null  object\n",
      " 1   DeviceIDHash    244126 non-null  int64 \n",
      " 2   EventTimestamp  244126 non-null  int64 \n",
      " 3   ExpId           244126 non-null  int64 \n",
      "dtypes: int64(3), object(1)\n",
      "memory usage: 7.5+ MB\n",
      "None \n",
      "\n",
      "       DeviceIDHash  EventTimestamp          ExpId\n",
      "count  2.441260e+05    2.441260e+05  244126.000000\n",
      "mean   4.627568e+18    1.564914e+09     247.022296\n",
      "std    2.642425e+18    1.771343e+05       0.824434\n",
      "min    6.888747e+15    1.564030e+09     246.000000\n",
      "25%    2.372212e+18    1.564757e+09     246.000000\n",
      "50%    4.623192e+18    1.564919e+09     247.000000\n",
      "75%    6.932517e+18    1.565075e+09     248.000000\n",
      "max    9.222603e+18    1.565213e+09     248.000000 \n",
      "\n",
      "413 \n",
      "\n"
     ]
    }
   ],
   "source": [
    "print(data.head(),'\\n')\n",
    "print(data.info(), '\\n')\n",
    "print(data.describe(), '\\n')\n",
    "print(data.duplicated().sum(), '\\n')"
   ]
  },
  {
   "cell_type": "markdown",
   "metadata": {},
   "source": [
    "Una vez vistos los datos correspondientes a \"data\", podemos ver que el tipo de datos de una columna es correcto, esto debido a que, en la columna \"EventName\" su tipo de datos es el de \"object\", sin embargo, en las otras tres columnas el tipo de datos que tienen no es el mas adecuado, ya que en el caso de las columna \"DeviceIDHash\" el tipo de dato que deberia de tener es el de \"uint64\" a diferencia del que tiene que es el \"int64\", del mismo modo en el caso de la columna \"ExpId\" el tipo de datos es \"int64\" y deberia de tener el tipo de datos \"category\", porque el tipo de datos \"category\" ayuda a poder analizar de una mejor manera la columna que contiene solo tres datos diferentes a lo largo de todas las filas, estos datos pertenecen a tres grupos en los que son clasificados los datos, por otro lado la columna \"EventTimestamp\" tiene el tipo de datos \"int64\" y deberia de tener el tipo de datos \"datetime\".\n",
    "\n",
    "En este caso noodemos identificar valores nulos, sin embargo, podemos ver que si hay 413 valores duplicados, los cuales eliminaremos en la siguiente instruccion."
   ]
  },
  {
   "cell_type": "code",
   "execution_count": 4,
   "metadata": {},
   "outputs": [
    {
     "name": "stdout",
     "output_type": "stream",
     "text": [
      "<class 'pandas.core.frame.DataFrame'>\n",
      "RangeIndex: 244126 entries, 0 to 244125\n",
      "Data columns (total 5 columns):\n",
      " #   Column          Non-Null Count   Dtype         \n",
      "---  ------          --------------   -----         \n",
      " 0   Event_name      244126 non-null  object        \n",
      " 1   User_Id         244126 non-null  uint64        \n",
      " 2   Event_datetime  244126 non-null  datetime64[ns]\n",
      " 3   Group           244126 non-null  category      \n",
      " 4   Event_date      244126 non-null  object        \n",
      "dtypes: category(1), datetime64[ns](1), object(2), uint64(1)\n",
      "memory usage: 7.7+ MB\n",
      "None\n"
     ]
    }
   ],
   "source": [
    "# Cambiamos el tipo de datos de las columnas.\n",
    "data['DeviceIDHash'] = data['DeviceIDHash'].astype('uint64')\n",
    "data['ExpId'] = data['ExpId'].astype('category')\n",
    "data['EventTimestamp'] = pd.to_datetime(data['EventTimestamp'], unit = 's')\n",
    "#Creamos una columna solo para la fecha del evento.\n",
    "data['Event_date'] = data['EventTimestamp'].dt.date\n",
    "\n",
    "# Renombramos las columnas\n",
    "data.rename(\n",
    "    columns={\n",
    "        'EventName': 'Event_name',\n",
    "        'DeviceIDHash': 'User_Id',\n",
    "        'ExpId': 'Group',\n",
    "        'EventTimestamp': 'Event_datetime'\n",
    "    },\n",
    "    inplace=True\n",
    ")\n",
    "\n",
    "# Mostramos el resultado.\n",
    "print(data.info())"
   ]
  },
  {
   "cell_type": "markdown",
   "metadata": {},
   "source": [
    "## Paso 3. Estudiar y comprobar los datos."
   ]
  },
  {
   "cell_type": "markdown",
   "metadata": {},
   "source": [
    "### ¿Cuántos eventos hay en los registros?"
   ]
  },
  {
   "cell_type": "code",
   "execution_count": 5,
   "metadata": {},
   "outputs": [
    {
     "name": "stdout",
     "output_type": "stream",
     "text": [
      "5\n"
     ]
    }
   ],
   "source": [
    "# Contamos el numero de eventos unicos en la columna de \"Event_name\"\n",
    "unique_events = data['Event_name'].nunique()\n",
    "\n",
    "print(unique_events)"
   ]
  },
  {
   "cell_type": "markdown",
   "metadata": {},
   "source": [
    "Hay 5 eventos en los registros."
   ]
  },
  {
   "cell_type": "markdown",
   "metadata": {},
   "source": [
    "### ¿Cuántos usuarios y usuarias hay en los registros?"
   ]
  },
  {
   "cell_type": "code",
   "execution_count": 6,
   "metadata": {},
   "outputs": [
    {
     "name": "stdout",
     "output_type": "stream",
     "text": [
      "7551\n"
     ]
    }
   ],
   "source": [
    "# Contamos el numero de usuarios unicos en la columna de \"User_Id\"\n",
    "unique_users = data['User_Id'].nunique()\n",
    "\n",
    "print(unique_users)"
   ]
  },
  {
   "cell_type": "markdown",
   "metadata": {},
   "source": [
    "Hay 7551 usuarios y usuarias hay en los registros."
   ]
  },
  {
   "cell_type": "markdown",
   "metadata": {},
   "source": [
    "### ¿Cuál es el promedio de eventos por usuario?"
   ]
  },
  {
   "cell_type": "code",
   "execution_count": 7,
   "metadata": {},
   "outputs": [
    {
     "name": "stdout",
     "output_type": "stream",
     "text": [
      "32.33028737915508\n"
     ]
    }
   ],
   "source": [
    "# Calculamos el promedio de eventos por usuario\n",
    "total_events = len(data)  # Total de filas en el DataFrame equivale al número de eventos\n",
    "unique_users = data['User_Id'].nunique()  # Número de usuarios únicos\n",
    "average_events_per_user = total_events / unique_users  # Promedio de eventos por usuario\n",
    "\n",
    "print(average_events_per_user)"
   ]
  },
  {
   "cell_type": "markdown",
   "metadata": {},
   "source": [
    "El promedio de eventos por usuario es de 32.33 eventos."
   ]
  },
  {
   "cell_type": "markdown",
   "metadata": {},
   "source": [
    "### ¿Qué periodo de tiempo cubren los datos? Encuentra la fecha máxima y mínima. Traza un histograma por fecha y hora. "
   ]
  },
  {
   "cell_type": "code",
   "execution_count": 8,
   "metadata": {},
   "outputs": [
    {
     "data": {
      "image/png": "[encoded data removed]",
      "text/plain": [
       "<Figure size 800x400 with 1 Axes>"
      ]
     },
     "metadata": {},
     "output_type": "display_data"
    }
   ],
   "source": [
    "# Encontramos la fecha mínima y máxima\n",
    "min_date = data['Event_datetime'].min() \n",
    "max_date = data['Event_datetime'].max() \n",
    "\n",
    "# Trazamos un histograma por fecha y hora\n",
    "plt.figure(figsize=(8, 4))\n",
    "data['Event_datetime'].hist(bins=100, alpha=0.7, edgecolor='black')\n",
    "plt.xlabel('Fecha y hora')\n",
    "plt.ylabel('Número de eventos')\n",
    "plt.title('Histograma de eventos por fecha y hora')\n",
    "plt.xticks(rotation=90)\n",
    "plt.show()"
   ]
  },
  {
   "cell_type": "markdown",
   "metadata": {},
   "source": [
    "### ¿Puedes tener seguridad de que tienes datos igualmente completos para todo el periodo? Los eventos más antiguos podrían terminar en los registros de algunos usuarios o usuarias por razones técnicas y esto podría sesgar el panorama general."
   ]
  },
  {
   "cell_type": "markdown",
   "metadata": {},
   "source": [
    "A simple vista en el grafico que se muestra se puede ver que no hay una seguridad de que haya datos igualmente completos para todo el periodo, puesto que los eventos más antiguos podrían terminar en los registros de algunos usuarios o usuarias por razones técnicas y esto podría sesgar el panorama general, es evidente en el grafico que eso pasa. "
   ]
  },
  {
   "cell_type": "markdown",
   "metadata": {},
   "source": [
    "### Encuentra el momento en el que los datos comienzan a estar completos e ignora la sección anterior. ¿Qué periodo representan realmente los datos?"
   ]
  },
  {
   "cell_type": "code",
   "execution_count": 9,
   "metadata": {},
   "outputs": [
    {
     "data": {
      "image/png": "[encoded data removed]",
      "text/plain": [
       "<Figure size 800x400 with 1 Axes>"
      ]
     },
     "metadata": {},
     "output_type": "display_data"
    }
   ],
   "source": [
    "# Contamos el número de eventos por día\n",
    "events_per_day = data.groupby('Event_date').size()\n",
    "\n",
    "# Graficamos el número de eventos por día\n",
    "plt.figure(figsize=(8, 4))\n",
    "events_per_day.plot(kind='line', marker='o')\n",
    "plt.xlabel('Fecha')\n",
    "plt.ylabel('Número de eventos')\n",
    "plt.title('Número de eventos por día')\n",
    "plt.xticks(rotation=90)\n",
    "plt.grid()\n",
    "plt.show()"
   ]
  },
  {
   "cell_type": "markdown",
   "metadata": {},
   "source": [
    "¿Qué periodo representan realmente los datos?\n",
    "\n",
    "Como se puede ver en el grafico, podemos ver que el periodo que representa realmente los datos es el comprendido de 2019-07-31 a 2019-08-07, ya que antes de 2019-07-31, los datos no mostraban suficientes eventos como para poder analizar y comprender de la mejor manera el contenido de los datos."
   ]
  },
  {
   "cell_type": "markdown",
   "metadata": {},
   "source": [
    "### ¿Perdiste muchos eventos y usuarios al excluir los datos más antiguos?"
   ]
  },
  {
   "cell_type": "code",
   "execution_count": 10,
   "metadata": {},
   "outputs": [
    {
     "name": "stdout",
     "output_type": "stream",
     "text": [
      "<class 'pandas.core.frame.DataFrame'>\n",
      "Int64Index: 243329 entries, 797 to 244125\n",
      "Data columns (total 5 columns):\n",
      " #   Column          Non-Null Count   Dtype         \n",
      "---  ------          --------------   -----         \n",
      " 0   Event_name      243329 non-null  object        \n",
      " 1   User_Id         243329 non-null  uint64        \n",
      " 2   Event_datetime  243329 non-null  datetime64[ns]\n",
      " 3   Group           243329 non-null  category      \n",
      " 4   Event_date      243329 non-null  object        \n",
      "dtypes: category(1), datetime64[ns](1), object(2), uint64(1)\n",
      "memory usage: 9.5+ MB\n",
      "None\n",
      "<class 'pandas.core.frame.DataFrame'>\n",
      "RangeIndex: 244126 entries, 0 to 244125\n",
      "Data columns (total 5 columns):\n",
      " #   Column          Non-Null Count   Dtype         \n",
      "---  ------          --------------   -----         \n",
      " 0   Event_name      244126 non-null  object        \n",
      " 1   User_Id         244126 non-null  uint64        \n",
      " 2   Event_datetime  244126 non-null  datetime64[ns]\n",
      " 3   Group           244126 non-null  category      \n",
      " 4   Event_date      244126 non-null  object        \n",
      "dtypes: category(1), datetime64[ns](1), object(2), uint64(1)\n",
      "memory usage: 7.7+ MB\n",
      "None\n"
     ]
    }
   ],
   "source": [
    "# Determinaremos la fecha de inicio con datos consistentes.\n",
    "consistent_start_date = events_per_day[events_per_day > 1000].index[0]\n",
    "# Filtraremos el DataFrame para incluir solo eventos desde esa fecha\n",
    "data_filtered = data[data['Event_date'] >= consistent_start_date]\n",
    "# Imprimimos la informacion del data filtrado con datos consistentes.\n",
    "print(data_filtered.info())\n",
    "#Imprimimos la informacion del data original.\n",
    "print(data.info())"
   ]
  },
  {
   "cell_type": "markdown",
   "metadata": {},
   "source": [
    "¿Perdiste muchos eventos y usuarios al excluir los datos más antiguos?\n",
    "\n",
    "No, en realidad no fueron muchos eventos y usuarios, solo fueron 797 en total. Esto representa una cantidad muy pequeña en comparacion con el numero de datos original de 244,126 que habia en el data original, ya que solo representa el .32% del 100% de los datos totales."
   ]
  },
  {
   "cell_type": "markdown",
   "metadata": {},
   "source": [
    "### Asegúrate de tener usuarios y usuarias de los tres grupos experimentales."
   ]
  },
  {
   "cell_type": "code",
   "execution_count": 11,
   "metadata": {},
   "outputs": [
    {
     "name": "stdout",
     "output_type": "stream",
     "text": [
      "248    85473\n",
      "246    80045\n",
      "247    77811\n",
      "Name: Group, dtype: int64\n"
     ]
    }
   ],
   "source": [
    "# Contamos el número de usuarios en cada grupo\n",
    "group_counts = data_filtered['Group'].value_counts()\n",
    "\n",
    "# Imprimimos los resultados\n",
    "print(group_counts)"
   ]
  },
  {
   "cell_type": "markdown",
   "metadata": {},
   "source": [
    "En el resultado anterior podemos ver como es que si hay usuarios y usuarias de los tres grupos experimentales, ademas podemos ver que hay 85473 del grupo 248, 80045 del grupo 246 y 77811 del grupo 247, por lo que inclusive podemos decir que hay una cantidad relativamente equilibrada de usuarios pertenecientes a cada uno de los grupos."
   ]
  },
  {
   "cell_type": "markdown",
   "metadata": {},
   "source": [
    "## Paso 4. Estudiar el embudo de eventos"
   ]
  },
  {
   "cell_type": "markdown",
   "metadata": {},
   "source": [
    "\n",
    "### Observa qué eventos hay en los registros y su frecuencia de suceso. Ordénalos por frecuencia."
   ]
  },
  {
   "cell_type": "code",
   "execution_count": 12,
   "metadata": {},
   "outputs": [
    {
     "name": "stdout",
     "output_type": "stream",
     "text": [
      "MainScreenAppear           118681\n",
      "OffersScreenAppear          46724\n",
      "CartScreenAppear            42623\n",
      "PaymentScreenSuccessful     34253\n",
      "Tutorial                     1048\n",
      "Name: Event_name, dtype: int64\n"
     ]
    },
    {
     "data": {
      "image/png": "[encoded data removed]",
      "text/plain": [
       "<Figure size 1000x600 with 1 Axes>"
      ]
     },
     "metadata": {},
     "output_type": "display_data"
    }
   ],
   "source": [
    "# Contamos la frecuencia de los eventos y los ordenamos por frecuencia\n",
    "event_counts = data_filtered['Event_name'].value_counts().sort_values(ascending=False)\n",
    "\n",
    "# Mostramos los resultados\n",
    "print(event_counts)\n",
    "\n",
    "# Graficamos los resultados.\n",
    "event_counts.plot(kind='bar', figsize=(10, 6), color='skyblue', alpha=0.8)\n",
    "plt.title(\"Frecuencia de los Eventos en los Registros\")\n",
    "plt.xlabel(\"Eventos\")\n",
    "plt.ylabel(\"Frecuencia\")\n",
    "plt.xticks(rotation=45)\n",
    "plt.grid(axis='y', linestyle='--', alpha=0.7)\n",
    "plt.show()"
   ]
  },
  {
   "cell_type": "markdown",
   "metadata": {},
   "source": [
    "En conclusion podemos observar que hay 5 tipos de eventos, el \"MainScreenAppear\" con 118681 entradas, siendo este el evento mas comun entre los usuarios y probablemente el evento que representa la entrada principal de los usuarios, en segundo lugar podemos ver que esta el \"OffersScreenAppear\" con 46724 entradas, en donde podemos observar como es que muchos usuarios ingresaron a ver las ofertas que tiene el sitio después de haber visto la pantalla principal, en tercer lugar se coloca el evento llamado \"CartScreenAppear\" con 42623 entradas, lo que puede indicar que una gran proporción de los usuarios añaden productos a sus carritos, para posteriormente seguir con el evento ubicado en el cuarto lugar, el cual es el \"PaymentScreenSuccessful\" con 34253 entradas, este numero representa la cantidad de usuarios que finalizaron satisfactoriamente el proceso de compra, por ultimo tenemos el evento \"Tutorial con 1048 entradas, el cual puede estar relacionado con procesos internos del usuario relacionados con la creación de cuentas o bien con el aprendizaje del proceso de compra."
   ]
  },
  {
   "cell_type": "markdown",
   "metadata": {},
   "source": [
    "### Encuentra la cantidad de usuarios y usuarias que realizaron cada una de estas acciones. Ordena los eventos por el número de usuarios y usuarias. Calcula la proporción de usuarios y usuarias que realizaron la acción al menos una vez."
   ]
  },
  {
   "cell_type": "code",
   "execution_count": 13,
   "metadata": {},
   "outputs": [
    {
     "name": "stdout",
     "output_type": "stream",
     "text": [
      "                         Usuarios únicos  Proporción de total_users\n",
      "Event_name                                                         \n",
      "MainScreenAppear                    7429                   0.985017\n",
      "OffersScreenAppear                  4606                   0.610713\n",
      "CartScreenAppear                    3742                   0.496155\n",
      "PaymentScreenSuccessful             3542                   0.469637\n",
      "Tutorial                             845                   0.112039\n"
     ]
    }
   ],
   "source": [
    "# Buscamos el numero de usuarios totales en el data_filtered.\n",
    "total_users = data_filtered['User_Id'].nunique()\n",
    "\n",
    "#Contamos el numero de usuarios que realizaron cada evento.\n",
    "users_per_event = data_filtered.groupby('Event_name')['User_Id'].nunique().sort_values(ascending = False)\n",
    "\n",
    "# Calculamos la proporcion de usuarios y usuarias que realizaron la accion al menos una vez.\n",
    "proportion_per_event = users_per_event /  total_users\n",
    "\n",
    "# Mostramos los resultados.\n",
    "results = pd.DataFrame({\n",
    "    'Usuarios únicos': users_per_event,\n",
    "    'Proporción de total_users': proportion_per_event\n",
    "})\n",
    "print(results)"
   ]
  },
  {
   "cell_type": "markdown",
   "metadata": {},
   "source": [
    "En conclusion podemos ver como es que casi el 100 % de los usuarios visitaron el evento de \"MainScreenAppear\" con un 98.5017%, lo cual tiene sentido, ya que este evento es el que representa la entrada inicial de usuarios al sistema. \n",
    "\n",
    "En segundo lugar, podemos encontrar ep evento \"OffersScreenAppear\", al cual los usuarios accedieron con un 61.0713% en donde al ser una pagina de ofertas, mas de la mitad de los usuarios visitaron la pagina, mostrando así su interés por conocer las ofertas disponibles.\n",
    "\n",
    "Después, en tercer lugar tenemos el evento \"CartScreenAppear\", el cual fue realizado por el 49.6155% de los usuarios, lo que nos puede decir que casi la mitad de todos los usuarios agregaron algún producto a sus carritos de compra.\n",
    "\n",
    "Posteriormente el 46.9637% de todos los usuarios si compraron algún producto de manera exitosa en el evento llamado \"PaymentScreenSuccessful\". Este dato es muy relevante, ya que muestra un porcentaje de compra alto, ya que de los usuarios que agregaron un producto a sus carritos de compra casi el 100% logro concretar la compra, con una tasa minima de abandono.\n",
    "\n",
    "Finalmente, solo el  11.2039% de los usuarios realizaron el evento del \"Tutorial\", lo que podría indicar que la mayoría de los usuarios no necesito algún tipo de ayuda para poder navegar por el sistema."
   ]
  },
  {
   "cell_type": "markdown",
   "metadata": {},
   "source": [
    "### ¿En qué orden crees que ocurrieron las acciones? ¿Todas son parte de una sola secuencia? No es necesario tenerlas en cuenta al calcular el embudo."
   ]
  },
  {
   "cell_type": "markdown",
   "metadata": {},
   "source": [
    "En mi opinion, yo creo que las acciones ocurrieron en el orden que sigue de mayor a menor la proporcion de usuarios que realizaron cada envento, es decir, primero \"MainScreenAppear\" con una proporcion de 98.5017% de los usuarios que entro en la pagina principal, seguido de un 61.0713% de los usuarios que entro en la pagina \"OffersScreenAppear\", luego en tercer lugar el 49.6155% de los usuarios entraron en la pagina \"CartScreenAppear\", para finalmente lograr el pago en la pagina \"PaymentScreenSuccessful\" con una proporcion de 46.9637% de los usuarios. \n",
    "\n",
    "En el caso del evento llamado \"Tutorial\" el cual el 11.2039% de los usuarios realizaron, podemos ver que es una accion aislada a la secuencia de compra, puesto que puede estar relacionada con una ayuda ofrecida por la pagina para ayudar a los usuarios que necesitaron asistencia con el uso de la pagina de manera indendiente."
   ]
  },
  {
   "cell_type": "markdown",
   "metadata": {},
   "source": [
    "### Utiliza el embudo de eventos para encontrar la proporción de usuarios y usuarias que pasan de una etapa a la siguiente. (Por ejemplo, para la secuencia de eventos A → B → C, calcula la proporción de usuarios en la etapa B a la cantidad de usuarios en la etapa A y la proporción de usuarios en la etapa C a la cantidad en la etapa B)."
   ]
  },
  {
   "cell_type": "code",
   "execution_count": 14,
   "metadata": {},
   "outputs": [
    {
     "name": "stdout",
     "output_type": "stream",
     "text": [
      "                         Usuarios únicos  Proporción de total_users  \\\n",
      "Event_name                                                            \n",
      "MainScreenAppear                    7429                   0.985017   \n",
      "OffersScreenAppear                  4606                   0.610713   \n",
      "CartScreenAppear                    3742                   0.496155   \n",
      "PaymentScreenSuccessful             3542                   0.469637   \n",
      "\n",
      "                         Proporción de paso  \n",
      "Event_name                                   \n",
      "MainScreenAppear                   0.620003  \n",
      "OffersScreenAppear                 0.812419  \n",
      "CartScreenAppear                   0.946553  \n",
      "PaymentScreenSuccessful                 NaN  \n"
     ]
    }
   ],
   "source": [
    "# Ordenamos los eventos en el orden del embudo\n",
    "results = results.loc[['MainScreenAppear', 'OffersScreenAppear', 'CartScreenAppear', 'PaymentScreenSuccessful']]\n",
    "\n",
    "# Calculamos las proporciones de paso de una etapa a la siguiente\n",
    "results['Proporción de paso'] = results['Usuarios únicos'].shift(-1) / results['Usuarios únicos']\n",
    "\n",
    "# Mostramos el DataFrame con la nueva columna\n",
    "print(results)"
   ]
  },
  {
   "cell_type": "markdown",
   "metadata": {},
   "source": [
    "Como podemos ver en la tabla anterior, la proporcion de paso del evento A (MainScreenAppear) al evento B (OffersScreenAppear) es del 62%, luego del paso del evento B (OffersScreenAppear) al evento C (CartScreenAppear) es del 80.2419% y del evento C (CartScreenAppear) al evento D (PaymentScreenSuccesful) es del 94.6553%. \n",
    "\n",
    "Es con base en lo anterior que podemos decir que el momento en el cual la pagina pierde mas usuarios es durante el traslado del evento A al B, ya que solo el 62% de los usuarios permanecen en la pagina despues de ver el evento numero A, perdiendo aproximadamente el 38% de los usuarios.\n",
    "\n",
    "Sin embargo, despues de haber visto las ofertas en el evento B, la proporcion crece hasta el 81.2419%, casi un 30% mas en comparacion con el recorrido anterior. \n",
    "\n",
    "Por ultimo es importante destacar que de los usuarios que llegan al evento numero C (CartScreenAppear) casi el 100% de lo usuarios termina con una compra exitosa en el evento D."
   ]
  },
  {
   "cell_type": "markdown",
   "metadata": {},
   "source": [
    "### ¿En qué etapa pierdes más usuarios y usuarias?"
   ]
  },
  {
   "cell_type": "markdown",
   "metadata": {},
   "source": [
    "En la etapa numero 1, en el transcurso del evento A al B, es decir, de \"MainScreenAppear\" al evento \"OffersScreenAppear\", se pierden aproximadamente un 38% de los usuarios y usuarias."
   ]
  },
  {
   "cell_type": "markdown",
   "metadata": {},
   "source": [
    "### ¿Qué porcentaje de usuarios y usuarias hace todo el viaje desde su primer evento hasta el pago?"
   ]
  },
  {
   "cell_type": "code",
   "execution_count": 15,
   "metadata": {},
   "outputs": [
    {
     "name": "stdout",
     "output_type": "stream",
     "text": [
      "47.6780185758514\n"
     ]
    }
   ],
   "source": [
    "complete_journey = (results.loc['PaymentScreenSuccessful', 'Usuarios únicos']/\n",
    "                    results.loc['MainScreenAppear', 'Usuarios únicos'])*100\n",
    "print(complete_journey)"
   ]
  },
  {
   "cell_type": "markdown",
   "metadata": {},
   "source": [
    "El 47.678% de usuarios y usuarias hace todo el viaje desde su primer evento hasta el pago. Este porcentaje refleja casi un 50% de retencion de usuarios y usuarias desde el primer evento."
   ]
  },
  {
   "cell_type": "markdown",
   "metadata": {},
   "source": [
    "## Paso 5. Estudiar los resultados del experimento"
   ]
  },
  {
   "cell_type": "markdown",
   "metadata": {},
   "source": [
    "### ¿Cuántos usuarios y usuarias hay en cada grupo?"
   ]
  },
  {
   "cell_type": "code",
   "execution_count": 16,
   "metadata": {},
   "outputs": [
    {
     "name": "stdout",
     "output_type": "stream",
     "text": [
      "Group\n",
      "248    2540\n",
      "247    2517\n",
      "246    2485\n",
      "Name: User_Id, dtype: int64\n"
     ]
    }
   ],
   "source": [
    "#Contamos el numero de usuarios que hay en cada grupo.\n",
    "users_per_group = data_filtered.groupby('Group')['User_Id'].nunique().sort_values(ascending = False)\n",
    "print(users_per_group)"
   ]
  },
  {
   "cell_type": "markdown",
   "metadata": {},
   "source": [
    "Como podemos ver en el resultado anterior, hay 2540 usuarios en el grupo 248, 2517 en el grupo 247 y 2485 en el grupo 246. Del mismo modo es importante destacar que los tres grupos tienen tamaños muy similares, por lo que de esa manera facilita en cierto grado la realizacion de operaciones estadisticas."
   ]
  },
  {
   "cell_type": "markdown",
   "metadata": {},
   "source": [
    "### Tenemos dos grupos de control en el test A/A, donde comprobamos nuestros mecanismos y cálculos. Observa si hay una diferencia estadísticamente significativa entre las muestras 246 y 247."
   ]
  },
  {
   "cell_type": "code",
   "execution_count": 17,
   "metadata": {},
   "outputs": [
    {
     "name": "stdout",
     "output_type": "stream",
     "text": [
      "Valor p de la prueba de Mann-Whitney: 1.000\n",
      "Diferencia relativa: -0.046\n",
      "Valor p de la prueba de Mann-Whitney: 1.000\n",
      "No hay diferencia estadísticamente significativa con el nivel de significancia ajustado (α = 0.001).\n"
     ]
    }
   ],
   "source": [
    "# Filtramos los usuarios por grupo.\n",
    "users_by_group = data_filtered.groupby('Group')['User_Id'].nunique()\n",
    "# Filtramos los usuarios que realizaron el evento 'PaymentScreenSuccessful' por grupo.\n",
    "users_payment_succesful = data_filtered[data_filtered['Event_name'] == 'PaymentScreenSuccessful'].groupby('Group')['User_Id'].nunique()\n",
    "# Calculamos la tasa de conversion.\n",
    "conversion_rate = users_payment_succesful / users_by_group\n",
    "# Extraemos las tasas de conversion de los grupos 246 y 247.\n",
    "conversion_246 = conversion_rate.loc[246]\n",
    "conversion_247 = conversion_rate.loc[247]\n",
    "#Prueba de Mann_Whitney\n",
    "sample_246 = data_filtered[(data_filtered['Group'] == 246) & (data_filtered['Event_name'] == 'PaymentScreenSuccessful')]['User_Id'].nunique()\n",
    "sample_247 = data_filtered[(data_filtered['Group'] == 247) & (data_filtered['Event_name'] == 'PaymentScreenSuccessful')]['User_Id'].nunique()\n",
    "\n",
    "\n",
    "# Prueba de Mann-Whitney\n",
    "p_value_conversion = stats.mannwhitneyu([sample_246], [sample_247])[1]\n",
    "\n",
    "# Diferencia relativa.\n",
    "relative_difference = (conversion_247 - conversion_246) / conversion_246\n",
    "\n",
    "# Imprimimos resultados de significancia y diferencia relativa\n",
    "print(f\"Valor p de la prueba de Mann-Whitney: {p_value_conversion:.3f}\")\n",
    "print(f\"Diferencia relativa: {relative_difference:.3f}\")\n",
    "\n",
    "\n",
    "# Comprobamos la significancia estadistica con un nivel de significancia de 0.001.\n",
    "print(f\"Valor p de la prueba de Mann-Whitney: {p_value_conversion:.3f}\")\n",
    "if p_value_conversion < 0.001:\n",
    "    print(\"El resultado es estadísticamente significativo con el nivel de significancia ajustado (α = 0.001).\")\n",
    "else:\n",
    "    print(\"No hay diferencia estadísticamente significativa con el nivel de significancia ajustado (α = 0.001).\")"
   ]
  },
  {
   "cell_type": "markdown",
   "metadata": {},
   "source": [
    "En conclusion podemos observar que no hay una diferencia estadísticamente significativa entre los grupos 246 y 247, debido a que el valor p arrojado por la prueba de Mann-Whitney es de 1.000, lo cual es significativamente mayor que el umbral de 0.001. Lo que puede indicar que cualquiera que sea la diferencia observada, esta puede ser atribuida al azar.\n",
    "\n",
    "Ademas tambien podemos ver que la diferencia relativa entre los dos grupos es minima, con el grupo 247 mostrando una tasa de conversion 4.6% inferior que el grupo 246. Es por lo anterior que podemos decir que esta diferencia no es suficiente para poder sugerir que alguno de los grupos tiene un desempeño significativamente mejor."
   ]
  },
  {
   "cell_type": "markdown",
   "metadata": {},
   "source": [
    "### Selecciona el evento más popular. En cada uno de los grupos de control, encuentra la cantidad de usuarios y usuarias que realizaron esta acción. Encuentra su proporción. Comprueba si la diferencia entre los grupos es estadísticamente significativa. Repite el procedimiento para todos los demás eventos (ahorrarás tiempo si creas una función especial para esta prueba). ¿Puedes confirmar que los grupos se dividieron correctamente?"
   ]
  },
  {
   "cell_type": "code",
   "execution_count": 18,
   "metadata": {},
   "outputs": [
    {
     "name": "stdout",
     "output_type": "stream",
     "text": [
      "Evento: MainScreenAppear\n",
      "Proporciones:\n",
      "Group\n",
      "246    0.986720\n",
      "247    0.984903\n",
      "Name: User_Id, dtype: float64\n",
      "Valor p de la prueba de Mann-Whitney: 0.000 (Significativo con α = 0.001)\n",
      "\n",
      "\n",
      "Evento: OffersScreenAppear\n",
      "Proporciones:\n",
      "Group\n",
      "246    0.621328\n",
      "247    0.606277\n",
      "Name: User_Id, dtype: float64\n",
      "Valor p de la prueba de Mann-Whitney: 0.000 (Significativo con α = 0.001)\n",
      "\n",
      "\n",
      "Evento: CartScreenAppear\n",
      "Proporciones:\n",
      "Group\n",
      "246    0.509859\n",
      "247    0.492253\n",
      "Name: User_Id, dtype: float64\n",
      "Valor p de la prueba de Mann-Whitney: 0.000 (Significativo con α = 0.001)\n",
      "\n",
      "\n",
      "Evento: PaymentScreenSuccessful\n",
      "Proporciones:\n",
      "Group\n",
      "246    0.482897\n",
      "247    0.460469\n",
      "Name: User_Id, dtype: float64\n",
      "Valor p de la prueba de Mann-Whitney: 0.005 (No significativo con α = 0.001)\n"
     ]
    }
   ],
   "source": [
    "# Creamos la función para analizar un evento específico en los grupos de control.\n",
    "def event_analysis(event_name, data_filtered):\n",
    "    # Filtrar datos solo para los grupos de control 246 y 247\n",
    "    control_data = data_filtered[data_filtered['Group'].isin([246, 247])]\n",
    "    \n",
    "    # Obtenemos el total de usuarios únicos en cada grupo\n",
    "    total_users_by_group = control_data.groupby('Group')['User_Id'].nunique()\n",
    "    \n",
    "    # Obtenemos los usuarios únicos que realizaron el evento en cada grupo\n",
    "    event_users_by_group = (\n",
    "        control_data[control_data['Event_name'] == event_name]\n",
    "        .groupby('Group')['User_Id']\n",
    "        .nunique()\n",
    "    )\n",
    "    \n",
    "    # Aseguramos que ambos grupos de control estén presentes en event_users_by_group\n",
    "    event_users_by_group = event_users_by_group.reindex([246, 247], fill_value=0)\n",
    "    \n",
    "    # Obtenemos las proporciones\n",
    "    proportions = event_users_by_group / total_users_by_group.reindex([246, 247], fill_value=0)\n",
    "    \n",
    "    # Creamos las muestras para las pruebas de Mann-Whitney\n",
    "    sample_246 = control_data[\n",
    "        (control_data['Group'] == 246) & (control_data['Event_name'] == event_name)\n",
    "    ]['User_Id']\n",
    "    sample_247 = control_data[\n",
    "        (control_data['Group'] == 247) & (control_data['Event_name'] == event_name)\n",
    "    ]['User_Id']\n",
    "    \n",
    "    # Realizamos la prueba de Mann-Whitney\n",
    "    if len(sample_246) > 0 and len(sample_247) > 0:\n",
    "        p_value = stats.mannwhitneyu(sample_246, sample_247, alternative='two-sided')[1]\n",
    "    else:\n",
    "        p_value = None  \n",
    "    \n",
    "    # Calculamos la diferencia relativa\n",
    "    if proportions[246] > 0:\n",
    "        relative_difference = (proportions[247] - proportions[246]) / proportions[246]\n",
    "    else:\n",
    "        relative_difference = None\n",
    "    \n",
    "    # Mostramos resultados\n",
    "    print(f\"Evento: {event_name}\")\n",
    "    print(f\"Proporciones:\\n{proportions}\")\n",
    "    if p_value is not None:\n",
    "        if p_value < 0.001:\n",
    "            print(f\"Valor p de la prueba de Mann-Whitney: {p_value:.3f} (Significativo con α = 0.001)\")\n",
    "        else:\n",
    "            print(f\"Valor p de la prueba de Mann-Whitney: {p_value:.3f} (No significativo con α = 0.001)\")\n",
    "    else:\n",
    "        print(\"No hay suficientes datos para calcular la diferencia relativa.\")\n",
    "    \n",
    "    \n",
    "    \n",
    "# Analizamos el evento más popular 'MainScreenAppear'.\n",
    "event_analysis('MainScreenAppear', data_filtered)\n",
    "print('\\n')\n",
    "#Analizamos el evento 'OffersScreenAppear'.\n",
    "event_analysis('OffersScreenAppear', data_filtered)\n",
    "print('\\n')\n",
    "#Analizamos el evento 'CartScreenAppear'.\n",
    "event_analysis('CartScreenAppear', data_filtered) \n",
    "print('\\n')\n",
    "# Analizamos el evento 'PaymentScreenSuccessful'.\n",
    "event_analysis('PaymentScreenSuccessful', data_filtered)"
   ]
  },
  {
   "cell_type": "markdown",
   "metadata": {},
   "source": [
    "En conclusion se puede observar como es que si hay diferencias significativas en el valor p obtenido mediante la prueba de Mann-Whitney, sin embargo, estas diferencias son minimas al ser de -0.2% en el caso del evento \"MainScreenAppear\", en el caso del evento \" OffersScreenAppear\", la diferencia fue de -2.4%, en tercer lugar la diferencia fue de -3.5% para el evento \"CartScreenAppear\", por ultimo en el caso del evento \"PaymentScreenSuccessful\", la diferencia fue de -4.6%. \n",
    "\n",
    "Es por lo anterior que podemos ver que las diferencias entre los grupos de control 246 y 247, que aunque si son significativas en la mayoria de los eventos, con excepcion de \"PaymentScreenSuccesful\" segun las pruebas de Mann-Whitney, esta son muy pequeñas en terminos practicos.  Lo que puede sugerir que los grupos han sido divididos de manera correcta y que cualquier diferencia puede ser atribuida a las variaciones aleatorias dentro de los datos. En el caso del evento \"PaymentScreenSuccesful\" podemos ver que las diferencias entre los grupos de control pueden estar relacionadas con factores de azar."
   ]
  },
  {
   "cell_type": "markdown",
   "metadata": {},
   "source": [
    "### Haz lo mismo para el grupo con fuentes alteradas. Compara los resultados con los de cada uno de los grupos de control para cada evento de forma aislada. Compara los resultados con los resultados combinados de los grupos de control. ¿Qué conclusiones puedes sacar del experimento?"
   ]
  },
  {
   "cell_type": "code",
   "execution_count": 19,
   "metadata": {},
   "outputs": [
    {
     "name": "stdout",
     "output_type": "stream",
     "text": [
      "Evento: MainScreenAppear\n",
      "Proporciones:\n",
      "Group\n",
      "246    0.986720\n",
      "247    0.984903\n",
      "248    0.983465\n",
      "Name: User_Id, dtype: float64\n",
      "Valor p (246 vs 247): 0.000 (Significativo con α = 0.001)\n",
      "Valor p (246 vs 248): 0.164 (No significativo con α = 0.001)\n",
      "Valor p (247 vs 248): 0.000 (Significativo con α = 0.001)\n",
      "\n",
      "\n",
      "Evento: OffersScreenAppear\n",
      "Proporciones:\n",
      "Group\n",
      "246    0.621328\n",
      "247    0.606277\n",
      "248    0.604724\n",
      "Name: User_Id, dtype: float64\n",
      "Valor p (246 vs 247): 0.000 (Significativo con α = 0.001)\n",
      "Valor p (246 vs 248): 0.000 (Significativo con α = 0.001)\n",
      "Valor p (247 vs 248): 0.792 (No significativo con α = 0.001)\n",
      "\n",
      "\n",
      "Evento: CartScreenAppear\n",
      "Proporciones:\n",
      "Group\n",
      "246    0.509859\n",
      "247    0.492253\n",
      "248    0.486614\n",
      "Name: User_Id, dtype: float64\n",
      "Valor p (246 vs 247): 0.000 (Significativo con α = 0.001)\n",
      "Valor p (246 vs 248): 0.000 (Significativo con α = 0.001)\n",
      "Valor p (247 vs 248): 0.035 (No significativo con α = 0.001)\n",
      "\n",
      "\n",
      "Evento: PaymentScreenSuccessful\n",
      "Proporciones:\n",
      "Group\n",
      "246    0.482897\n",
      "247    0.460469\n",
      "248    0.465748\n",
      "Name: User_Id, dtype: float64\n",
      "Valor p (246 vs 247): 0.005 (No significativo con α = 0.001)\n",
      "Valor p (246 vs 248): 0.000 (Significativo con α = 0.001)\n",
      "Valor p (247 vs 248): 0.001 (No significativo con α = 0.001)\n",
      "\n",
      "\n"
     ]
    }
   ],
   "source": [
    "# Cramos la función para analizar un evento específico en los grupos\n",
    "def event_analysis(event_name, data_filtered):\n",
    "    # Filtrar datos solo para los grupos de control 246, 247 y el grupo de prueba 248\n",
    "    control_data = data_filtered[data_filtered['Group'].isin([246, 247, 248])]\n",
    "    \n",
    "    # Obtenemos el total de usuarios únicos en cada grupo\n",
    "    total_users_by_group = control_data.groupby('Group')['User_Id'].nunique()\n",
    "    \n",
    "    # Obtenemos los usuarios únicos que realizaron el evento en cada grupo\n",
    "    event_users_by_group = (\n",
    "        control_data[control_data['Event_name'] == event_name]\n",
    "        .groupby('Group')['User_Id']\n",
    "        .nunique()\n",
    "    )\n",
    "    \n",
    "    # Aseguramos que los tres grupos estén presentes en event_users_by_group\n",
    "    event_users_by_group = event_users_by_group.reindex([246, 247, 248], fill_value=0)\n",
    "    \n",
    "    # Obtenemos las proporciones\n",
    "    proportions = event_users_by_group / total_users_by_group.reindex([246, 247, 248], fill_value=0)\n",
    "    \n",
    "    # Creamos las muestras para las pruebas de Mann-Whitney\n",
    "    sample_246 = control_data[\n",
    "        (control_data['Group'] == 246) & (control_data['Event_name'] == event_name)\n",
    "    ]['User_Id']\n",
    "    sample_247 = control_data[\n",
    "        (control_data['Group'] == 247) & (control_data['Event_name'] == event_name)\n",
    "    ]['User_Id']\n",
    "    sample_248 = control_data[\n",
    "        (control_data['Group'] == 248) & (control_data['Event_name'] == event_name)\n",
    "    ]['User_Id']\n",
    "    \n",
    "    # Realizamos pruebas de Mann-Whitney para comparar 246 vs 247, 246 vs 248, y 247 vs 248\n",
    "    p_value_246_247 = stats.mannwhitneyu(sample_246, sample_247, alternative='two-sided')[1] if len(sample_246) > 0 and len(sample_247) > 0 else None\n",
    "    p_value_246_248 = stats.mannwhitneyu(sample_246, sample_248, alternative='two-sided')[1] if len(sample_246) > 0 and len(sample_248) > 0 else None\n",
    "    p_value_247_248 = stats.mannwhitneyu(sample_247, sample_248, alternative='two-sided')[1] if len(sample_247) > 0 and len(sample_248) > 0 else None\n",
    "    \n",
    "    # Calculamos las diferencias relativas\n",
    "    relative_diff_246_247 = (proportions[247] - proportions[246]) / proportions[246] if proportions[246] > 0 else None\n",
    "    relative_diff_246_248 = (proportions[248] - proportions[246]) / proportions[246] if proportions[246] > 0 else None\n",
    "    relative_diff_247_248 = (proportions[248] - proportions[247]) / proportions[247] if proportions[247] > 0 else None\n",
    "    \n",
    "    # Mostramos resultados\n",
    "    print(f\"Evento: {event_name}\")\n",
    "    print(f\"Proporciones:\\n{proportions}\")\n",
    "    if p_value_246_247 is not None:\n",
    "        if p_value_246_247 < 0.001:\n",
    "            print(f\"Valor p (246 vs 247): {p_value_246_247:.3f} (Significativo con α = 0.001)\")\n",
    "        else:\n",
    "            print(f\"Valor p (246 vs 247): {p_value_246_247:.3f} (No significativo con α = 0.001)\")\n",
    "    if p_value_246_248 is not None:\n",
    "        if p_value_246_248 < 0.001:\n",
    "            print(f\"Valor p (246 vs 248): {p_value_246_248:.3f} (Significativo con α = 0.001)\")\n",
    "        else:\n",
    "            print(f\"Valor p (246 vs 248): {p_value_246_248:.3f} (No significativo con α = 0.001)\")\n",
    "    if p_value_247_248 is not None:\n",
    "        if p_value_247_248 < 0.001:\n",
    "            print(f\"Valor p (247 vs 248): {p_value_247_248:.3f} (Significativo con α = 0.001)\")\n",
    "        else:\n",
    "            print(f\"Valor p (247 vs 248): {p_value_247_248:.3f} (No significativo con α = 0.001)\")\n",
    "    print('\\n')\n",
    "\n",
    "# Analizamos los eventos principales\n",
    "events = ['MainScreenAppear', 'OffersScreenAppear', 'CartScreenAppear', 'PaymentScreenSuccessful']\n",
    "for event in events:\n",
    "    event_analysis(event, data_filtered)\n"
   ]
  },
  {
   "cell_type": "markdown",
   "metadata": {},
   "source": [
    "Los resultados sugieren que el grupo 248, con fuentes alteradas, muestra diferencias estadísticamente significativas con los grupos de control en varias etapas.\n",
    "\n",
    "Ademas, es importante destacar que las diferencias entre 246 y 247 son pequeñas, lo que confirma que los grupos de control fueron divididos correctamente.\n",
    "\n",
    "Por otro lado, es importante destacar que las diferencias entre 247 y 248 son generalmente menores que las observadas entre 246 y 248, lo cual es consistente con el hecho de que 248 tiene fuentes alteradas.\n",
    "\n",
    "Esto podría indicar que las alteraciones en las fuentes no tienen un impacto muy marcado en el comportamiento de los usuarios, aunque en etapas específicas como pasa en el caso del evento PaymentScreenSuccessful, el grupo 248 muestra un desempeño ligeramente mejor que el grupo 247."
   ]
  },
  {
   "cell_type": "markdown",
   "metadata": {},
   "source": [
    "### ¿Qué nivel de significación has establecido para probar las hipótesis estadísticas mencionadas anteriormente? Calcula cuántas pruebas de hipótesis estadísticas has realizado. Con un nivel de significancia estadística de 0.1, uno de cada 10 resultados podría ser falso. ¿Cuál debería ser el nivel de significación? Si deseas cambiarlo, vuelve a ejecutar los pasos anteriores y comprueba tus conclusiones."
   ]
  },
  {
   "cell_type": "markdown",
   "metadata": {},
   "source": [
    "He usado un nivel de significacion de 0.05, o bien de 5%.\n",
    "\n",
    "He calculado 9 pruebas de hipotesis estadistica.\n",
    "\n",
    "En mi opinion si cambio el nivel de significacion estadistica a 0.1% las pruebas de Mann-Whitney podrian arrojarme mejores resultados en cuestion de significancia, al ayudarme a eliminar de alguna forma los falsos positivos que podria haber obtenido."
   ]
  }
 ],
 "metadata": {
  "ExecuteTimeLog": [
   {
    "duration": 2625,
    "start_time": "2024-11-28T06:58:19.684Z"
   },
   {
    "duration": 232,
    "start_time": "2024-11-28T06:59:44.227Z"
   },
   {
    "duration": 279,
    "start_time": "2024-11-28T07:00:49.066Z"
   },
   {
    "duration": 842,
    "start_time": "2024-11-28T07:11:22.002Z"
   },
   {
    "duration": 5,
    "start_time": "2024-11-28T07:11:22.846Z"
   },
   {
    "duration": 0,
    "start_time": "2024-11-28T07:11:22.853Z"
   },
   {
    "duration": 3,
    "start_time": "2024-11-28T07:12:23.833Z"
   },
   {
    "duration": 4,
    "start_time": "2024-11-28T07:12:54.441Z"
   },
   {
    "duration": 488,
    "start_time": "2024-11-28T07:13:21.596Z"
   },
   {
    "duration": 270,
    "start_time": "2024-11-28T07:13:24.642Z"
   },
   {
    "duration": 862,
    "start_time": "2024-11-28T07:13:30.939Z"
   },
   {
    "duration": 528,
    "start_time": "2024-11-28T07:13:31.806Z"
   },
   {
    "duration": 324,
    "start_time": "2024-11-28T07:13:32.336Z"
   },
   {
    "duration": 101,
    "start_time": "2024-11-28T07:14:43.333Z"
   },
   {
    "duration": 65,
    "start_time": "2024-11-28T07:14:45.173Z"
   },
   {
    "duration": 220,
    "start_time": "2024-11-28T07:39:18.724Z"
   },
   {
    "duration": 64,
    "start_time": "2024-11-28T07:39:27.940Z"
   },
   {
    "duration": 60,
    "start_time": "2024-11-28T07:40:26.709Z"
   },
   {
    "duration": 70,
    "start_time": "2024-11-28T07:40:35.680Z"
   },
   {
    "duration": 828,
    "start_time": "2024-11-28T07:40:46.320Z"
   },
   {
    "duration": 108,
    "start_time": "2024-11-28T07:40:47.150Z"
   },
   {
    "duration": 90,
    "start_time": "2024-11-28T07:40:47.259Z"
   },
   {
    "duration": 77,
    "start_time": "2024-11-28T07:40:47.351Z"
   },
   {
    "duration": 72,
    "start_time": "2024-11-28T07:42:59.487Z"
   },
   {
    "duration": 5,
    "start_time": "2024-11-28T07:43:35.856Z"
   },
   {
    "duration": 711,
    "start_time": "2024-11-28T07:43:42.445Z"
   },
   {
    "duration": 801,
    "start_time": "2024-11-28T07:43:56.132Z"
   },
   {
    "duration": 105,
    "start_time": "2024-11-28T07:43:56.935Z"
   },
   {
    "duration": 86,
    "start_time": "2024-11-28T07:43:57.043Z"
   },
   {
    "duration": 76,
    "start_time": "2024-11-28T07:43:57.130Z"
   },
   {
    "duration": 828,
    "start_time": "2024-11-28T07:44:37.150Z"
   },
   {
    "duration": 106,
    "start_time": "2024-11-28T07:44:37.980Z"
   },
   {
    "duration": 89,
    "start_time": "2024-11-28T07:44:38.088Z"
   },
   {
    "duration": 71,
    "start_time": "2024-11-28T07:44:38.180Z"
   },
   {
    "duration": 676,
    "start_time": "2024-11-28T07:49:56.424Z"
   },
   {
    "duration": 26,
    "start_time": "2024-11-28T07:50:25.858Z"
   },
   {
    "duration": 7,
    "start_time": "2024-11-28T07:52:43.552Z"
   },
   {
    "duration": 6,
    "start_time": "2024-11-28T07:55:57.105Z"
   },
   {
    "duration": 6,
    "start_time": "2024-11-28T07:57:00.000Z"
   },
   {
    "duration": 231,
    "start_time": "2024-11-28T08:05:59.180Z"
   },
   {
    "duration": 219,
    "start_time": "2024-11-28T08:06:22.843Z"
   },
   {
    "duration": 174,
    "start_time": "2024-11-28T08:07:11.883Z"
   },
   {
    "duration": 2555,
    "start_time": "2024-11-28T23:11:41.781Z"
   },
   {
    "duration": 134,
    "start_time": "2024-11-28T23:11:44.339Z"
   },
   {
    "duration": 82,
    "start_time": "2024-11-28T23:11:44.475Z"
   },
   {
    "duration": 66,
    "start_time": "2024-11-28T23:11:44.570Z"
   },
   {
    "duration": 34,
    "start_time": "2024-11-28T23:11:44.639Z"
   },
   {
    "duration": 6,
    "start_time": "2024-11-28T23:11:44.674Z"
   },
   {
    "duration": 4,
    "start_time": "2024-11-28T23:11:44.682Z"
   },
   {
    "duration": 267,
    "start_time": "2024-11-28T23:11:44.688Z"
   },
   {
    "duration": 807,
    "start_time": "2024-11-28T23:41:05.586Z"
   },
   {
    "duration": 105,
    "start_time": "2024-11-28T23:41:06.395Z"
   },
   {
    "duration": 94,
    "start_time": "2024-11-28T23:41:06.502Z"
   },
   {
    "duration": 74,
    "start_time": "2024-11-28T23:41:06.599Z"
   },
   {
    "duration": 23,
    "start_time": "2024-11-28T23:41:06.675Z"
   },
   {
    "duration": 6,
    "start_time": "2024-11-28T23:41:06.701Z"
   },
   {
    "duration": 5,
    "start_time": "2024-11-28T23:41:06.709Z"
   },
   {
    "duration": 282,
    "start_time": "2024-11-28T23:41:06.716Z"
   },
   {
    "duration": 188,
    "start_time": "2024-11-28T23:42:14.486Z"
   },
   {
    "duration": 259,
    "start_time": "2024-11-28T23:44:48.154Z"
   },
   {
    "duration": 212,
    "start_time": "2024-11-28T23:56:16.910Z"
   },
   {
    "duration": 209,
    "start_time": "2024-11-28T23:56:53.671Z"
   },
   {
    "duration": 161,
    "start_time": "2024-11-28T23:58:03.251Z"
   },
   {
    "duration": 55,
    "start_time": "2024-11-29T00:05:22.093Z"
   },
   {
    "duration": 55,
    "start_time": "2024-11-29T00:05:33.721Z"
   },
   {
    "duration": 55,
    "start_time": "2024-11-29T00:06:23.583Z"
   },
   {
    "duration": 4,
    "start_time": "2024-11-29T00:10:51.766Z"
   },
   {
    "duration": 5,
    "start_time": "2024-11-29T00:11:05.576Z"
   },
   {
    "duration": 4,
    "start_time": "2024-11-29T00:12:45.403Z"
   },
   {
    "duration": 824,
    "start_time": "2024-11-29T00:15:02.277Z"
   },
   {
    "duration": 106,
    "start_time": "2024-11-29T00:15:03.103Z"
   },
   {
    "duration": 85,
    "start_time": "2024-11-29T00:15:03.211Z"
   },
   {
    "duration": 75,
    "start_time": "2024-11-29T00:15:03.298Z"
   },
   {
    "duration": 22,
    "start_time": "2024-11-29T00:15:03.375Z"
   },
   {
    "duration": 6,
    "start_time": "2024-11-29T00:15:03.398Z"
   },
   {
    "duration": 6,
    "start_time": "2024-11-29T00:15:03.406Z"
   },
   {
    "duration": 258,
    "start_time": "2024-11-29T00:15:03.413Z"
   },
   {
    "duration": 205,
    "start_time": "2024-11-29T00:15:03.673Z"
   },
   {
    "duration": 59,
    "start_time": "2024-11-29T00:15:03.880Z"
   },
   {
    "duration": 4,
    "start_time": "2024-11-29T00:15:03.941Z"
   },
   {
    "duration": 147,
    "start_time": "2024-11-29T01:21:33.241Z"
   },
   {
    "duration": 2521,
    "start_time": "2024-11-29T18:50:28.575Z"
   },
   {
    "duration": 130,
    "start_time": "2024-11-29T18:50:31.099Z"
   },
   {
    "duration": 78,
    "start_time": "2024-11-29T18:50:31.231Z"
   },
   {
    "duration": 78,
    "start_time": "2024-11-29T18:50:31.312Z"
   },
   {
    "duration": 23,
    "start_time": "2024-11-29T18:50:31.391Z"
   },
   {
    "duration": 6,
    "start_time": "2024-11-29T18:50:31.415Z"
   },
   {
    "duration": 4,
    "start_time": "2024-11-29T18:50:31.423Z"
   },
   {
    "duration": 255,
    "start_time": "2024-11-29T18:50:31.429Z"
   },
   {
    "duration": 165,
    "start_time": "2024-11-29T18:50:31.686Z"
   },
   {
    "duration": 63,
    "start_time": "2024-11-29T18:50:31.854Z"
   },
   {
    "duration": 6,
    "start_time": "2024-11-29T18:50:31.919Z"
   },
   {
    "duration": 169,
    "start_time": "2024-11-29T18:50:31.926Z"
   },
   {
    "duration": 3,
    "start_time": "2024-11-29T18:50:32.098Z"
   },
   {
    "duration": 269,
    "start_time": "2024-11-29T18:57:19.265Z"
   },
   {
    "duration": 39,
    "start_time": "2024-11-29T18:57:34.813Z"
   },
   {
    "duration": 44,
    "start_time": "2024-11-29T18:57:58.118Z"
   },
   {
    "duration": 6,
    "start_time": "2024-11-29T19:41:54.802Z"
   },
   {
    "duration": 39,
    "start_time": "2024-11-29T19:42:35.165Z"
   },
   {
    "duration": 10,
    "start_time": "2024-11-29T19:42:41.808Z"
   },
   {
    "duration": 41,
    "start_time": "2024-11-29T19:43:17.663Z"
   },
   {
    "duration": 6,
    "start_time": "2024-11-29T19:43:19.685Z"
   },
   {
    "duration": 787,
    "start_time": "2024-11-29T19:59:06.804Z"
   },
   {
    "duration": 105,
    "start_time": "2024-11-29T19:59:07.593Z"
   },
   {
    "duration": 84,
    "start_time": "2024-11-29T19:59:07.700Z"
   },
   {
    "duration": 64,
    "start_time": "2024-11-29T19:59:07.787Z"
   },
   {
    "duration": 34,
    "start_time": "2024-11-29T19:59:07.853Z"
   },
   {
    "duration": 6,
    "start_time": "2024-11-29T19:59:07.889Z"
   },
   {
    "duration": 6,
    "start_time": "2024-11-29T19:59:07.896Z"
   },
   {
    "duration": 264,
    "start_time": "2024-11-29T19:59:07.904Z"
   },
   {
    "duration": 209,
    "start_time": "2024-11-29T19:59:08.169Z"
   },
   {
    "duration": 60,
    "start_time": "2024-11-29T19:59:08.382Z"
   },
   {
    "duration": 4,
    "start_time": "2024-11-29T19:59:08.444Z"
   },
   {
    "duration": 169,
    "start_time": "2024-11-29T19:59:08.450Z"
   },
   {
    "duration": 50,
    "start_time": "2024-11-29T19:59:08.620Z"
   },
   {
    "duration": 7,
    "start_time": "2024-11-29T19:59:08.671Z"
   },
   {
    "duration": 215,
    "start_time": "2024-11-29T20:08:35.321Z"
   },
   {
    "duration": 549,
    "start_time": "2024-11-29T20:08:42.872Z"
   },
   {
    "duration": 64,
    "start_time": "2024-11-29T20:09:11.486Z"
   },
   {
    "duration": 54,
    "start_time": "2024-11-29T20:09:32.449Z"
   },
   {
    "duration": 3,
    "start_time": "2024-11-29T20:09:50.114Z"
   },
   {
    "duration": 23,
    "start_time": "2024-11-29T20:28:04.360Z"
   },
   {
    "duration": 39,
    "start_time": "2024-11-29T20:42:55.601Z"
   },
   {
    "duration": 18,
    "start_time": "2024-11-29T20:54:04.403Z"
   },
   {
    "duration": 310,
    "start_time": "2024-11-29T20:54:21.498Z"
   },
   {
    "duration": 23,
    "start_time": "2024-11-29T21:19:51.585Z"
   },
   {
    "duration": 181,
    "start_time": "2024-11-29T21:20:21.574Z"
   },
   {
    "duration": 65,
    "start_time": "2024-11-29T21:21:27.923Z"
   },
   {
    "duration": 2619,
    "start_time": "2024-11-29T22:57:09.092Z"
   },
   {
    "duration": 135,
    "start_time": "2024-11-29T22:57:11.713Z"
   },
   {
    "duration": 84,
    "start_time": "2024-11-29T22:57:11.851Z"
   },
   {
    "duration": 76,
    "start_time": "2024-11-29T22:57:11.938Z"
   },
   {
    "duration": 31,
    "start_time": "2024-11-29T22:57:12.016Z"
   },
   {
    "duration": 7,
    "start_time": "2024-11-29T22:57:12.050Z"
   },
   {
    "duration": 6,
    "start_time": "2024-11-29T22:57:12.059Z"
   },
   {
    "duration": 291,
    "start_time": "2024-11-29T22:57:12.067Z"
   },
   {
    "duration": 164,
    "start_time": "2024-11-29T22:57:12.360Z"
   },
   {
    "duration": 70,
    "start_time": "2024-11-29T22:57:12.531Z"
   },
   {
    "duration": 4,
    "start_time": "2024-11-29T22:57:12.605Z"
   },
   {
    "duration": 220,
    "start_time": "2024-11-29T22:57:12.611Z"
   },
   {
    "duration": 59,
    "start_time": "2024-11-29T22:57:12.833Z"
   },
   {
    "duration": 9,
    "start_time": "2024-11-29T22:57:12.894Z"
   },
   {
    "duration": 4,
    "start_time": "2024-11-29T22:57:12.905Z"
   },
   {
    "duration": 40,
    "start_time": "2024-11-29T22:57:12.911Z"
   },
   {
    "duration": 137,
    "start_time": "2024-11-29T22:57:12.955Z"
   },
   {
    "duration": 397,
    "start_time": "2024-11-29T23:10:43.250Z"
   },
   {
    "duration": 289,
    "start_time": "2024-11-29T23:21:19.571Z"
   },
   {
    "duration": 157,
    "start_time": "2024-11-29T23:21:54.880Z"
   },
   {
    "duration": 2515,
    "start_time": "2024-12-01T21:06:01.934Z"
   },
   {
    "duration": 124,
    "start_time": "2024-12-01T21:06:04.451Z"
   },
   {
    "duration": 87,
    "start_time": "2024-12-01T21:06:04.577Z"
   },
   {
    "duration": 73,
    "start_time": "2024-12-01T21:06:04.666Z"
   },
   {
    "duration": 22,
    "start_time": "2024-12-01T21:06:04.742Z"
   },
   {
    "duration": 6,
    "start_time": "2024-12-01T21:06:04.766Z"
   },
   {
    "duration": 6,
    "start_time": "2024-12-01T21:06:04.774Z"
   },
   {
    "duration": 250,
    "start_time": "2024-12-01T21:06:04.781Z"
   },
   {
    "duration": 159,
    "start_time": "2024-12-01T21:06:05.033Z"
   },
   {
    "duration": 70,
    "start_time": "2024-12-01T21:06:05.194Z"
   },
   {
    "duration": 5,
    "start_time": "2024-12-01T21:06:05.266Z"
   },
   {
    "duration": 164,
    "start_time": "2024-12-01T21:06:05.272Z"
   },
   {
    "duration": 46,
    "start_time": "2024-12-01T21:06:05.438Z"
   },
   {
    "duration": 8,
    "start_time": "2024-12-01T21:06:05.488Z"
   },
   {
    "duration": 3,
    "start_time": "2024-12-01T21:06:05.498Z"
   },
   {
    "duration": 39,
    "start_time": "2024-12-01T21:06:05.503Z"
   },
   {
    "duration": 118,
    "start_time": "2024-12-01T21:06:05.544Z"
   },
   {
    "duration": 231,
    "start_time": "2024-12-01T21:06:05.664Z"
   },
   {
    "duration": 83,
    "start_time": "2024-12-01T21:09:24.368Z"
   },
   {
    "duration": 194,
    "start_time": "2024-12-01T21:22:56.012Z"
   },
   {
    "duration": 158,
    "start_time": "2024-12-01T21:36:51.147Z"
   },
   {
    "duration": 2542,
    "start_time": "2024-12-02T18:46:41.491Z"
   },
   {
    "duration": 125,
    "start_time": "2024-12-02T18:46:44.035Z"
   },
   {
    "duration": 81,
    "start_time": "2024-12-02T18:46:44.162Z"
   },
   {
    "duration": 79,
    "start_time": "2024-12-02T18:46:44.246Z"
   },
   {
    "duration": 23,
    "start_time": "2024-12-02T18:46:44.326Z"
   },
   {
    "duration": 5,
    "start_time": "2024-12-02T18:46:44.351Z"
   },
   {
    "duration": 5,
    "start_time": "2024-12-02T18:46:44.357Z"
   },
   {
    "duration": 251,
    "start_time": "2024-12-02T18:46:44.364Z"
   },
   {
    "duration": 160,
    "start_time": "2024-12-02T18:46:44.617Z"
   },
   {
    "duration": 64,
    "start_time": "2024-12-02T18:46:44.780Z"
   },
   {
    "duration": 5,
    "start_time": "2024-12-02T18:46:44.846Z"
   },
   {
    "duration": 162,
    "start_time": "2024-12-02T18:46:44.852Z"
   },
   {
    "duration": 40,
    "start_time": "2024-12-02T18:46:45.016Z"
   },
   {
    "duration": 6,
    "start_time": "2024-12-02T18:46:45.058Z"
   },
   {
    "duration": 3,
    "start_time": "2024-12-02T18:46:45.066Z"
   },
   {
    "duration": 20,
    "start_time": "2024-12-02T18:46:45.087Z"
   },
   {
    "duration": 78,
    "start_time": "2024-12-02T18:46:45.108Z"
   },
   {
    "duration": 169,
    "start_time": "2024-12-02T18:46:45.189Z"
   },
   {
    "duration": 279,
    "start_time": "2024-12-02T18:58:51.435Z"
   },
   {
    "duration": 228,
    "start_time": "2024-12-02T18:59:21.370Z"
   },
   {
    "duration": 276,
    "start_time": "2024-12-02T19:02:57.986Z"
   },
   {
    "duration": 264,
    "start_time": "2024-12-02T19:14:45.337Z"
   },
   {
    "duration": 496,
    "start_time": "2024-12-02T19:25:37.285Z"
   },
   {
    "duration": 9,
    "start_time": "2024-12-02T19:31:44.519Z"
   },
   {
    "duration": 607,
    "start_time": "2024-12-02T19:33:53.124Z"
   },
   {
    "duration": 584,
    "start_time": "2024-12-02T19:34:20.843Z"
   },
   {
    "duration": 796,
    "start_time": "2024-12-02T19:42:01.315Z"
   },
   {
    "duration": 106,
    "start_time": "2024-12-02T19:42:02.113Z"
   },
   {
    "duration": 87,
    "start_time": "2024-12-02T19:42:02.220Z"
   },
   {
    "duration": 78,
    "start_time": "2024-12-02T19:42:02.309Z"
   },
   {
    "duration": 26,
    "start_time": "2024-12-02T19:42:02.388Z"
   },
   {
    "duration": 6,
    "start_time": "2024-12-02T19:42:02.416Z"
   },
   {
    "duration": 6,
    "start_time": "2024-12-02T19:42:02.424Z"
   },
   {
    "duration": 265,
    "start_time": "2024-12-02T19:42:02.432Z"
   },
   {
    "duration": 217,
    "start_time": "2024-12-02T19:42:02.699Z"
   },
   {
    "duration": 69,
    "start_time": "2024-12-02T19:42:02.920Z"
   },
   {
    "duration": 5,
    "start_time": "2024-12-02T19:42:02.990Z"
   },
   {
    "duration": 200,
    "start_time": "2024-12-02T19:42:02.996Z"
   },
   {
    "duration": 42,
    "start_time": "2024-12-02T19:42:03.198Z"
   },
   {
    "duration": 6,
    "start_time": "2024-12-02T19:42:03.242Z"
   },
   {
    "duration": 3,
    "start_time": "2024-12-02T19:42:03.251Z"
   },
   {
    "duration": 53,
    "start_time": "2024-12-02T19:42:03.256Z"
   },
   {
    "duration": 64,
    "start_time": "2024-12-02T19:42:03.311Z"
   },
   {
    "duration": 300,
    "start_time": "2024-12-02T19:42:03.386Z"
   },
   {
    "duration": 563,
    "start_time": "2024-12-02T19:42:03.690Z"
   },
   {
    "duration": 97,
    "start_time": "2024-12-02T20:08:11.515Z"
   },
   {
    "duration": 315,
    "start_time": "2024-12-02T20:09:22.622Z"
   },
   {
    "duration": 895,
    "start_time": "2024-12-02T20:11:20.454Z"
   },
   {
    "duration": 124,
    "start_time": "2024-12-02T20:11:21.351Z"
   },
   {
    "duration": 97,
    "start_time": "2024-12-02T20:11:21.477Z"
   },
   {
    "duration": 98,
    "start_time": "2024-12-02T20:11:21.576Z"
   },
   {
    "duration": 26,
    "start_time": "2024-12-02T20:11:21.677Z"
   },
   {
    "duration": 7,
    "start_time": "2024-12-02T20:11:21.705Z"
   },
   {
    "duration": 6,
    "start_time": "2024-12-02T20:11:21.713Z"
   },
   {
    "duration": 268,
    "start_time": "2024-12-02T20:11:21.721Z"
   },
   {
    "duration": 216,
    "start_time": "2024-12-02T20:11:21.994Z"
   },
   {
    "duration": 61,
    "start_time": "2024-12-02T20:11:22.214Z"
   },
   {
    "duration": 5,
    "start_time": "2024-12-02T20:11:22.286Z"
   },
   {
    "duration": 177,
    "start_time": "2024-12-02T20:11:22.293Z"
   },
   {
    "duration": 68,
    "start_time": "2024-12-02T20:11:22.472Z"
   },
   {
    "duration": 5,
    "start_time": "2024-12-02T20:11:22.542Z"
   },
   {
    "duration": 3,
    "start_time": "2024-12-02T20:11:22.549Z"
   },
   {
    "duration": 19,
    "start_time": "2024-12-02T20:11:22.554Z"
   },
   {
    "duration": 78,
    "start_time": "2024-12-02T20:11:22.587Z"
   },
   {
    "duration": 323,
    "start_time": "2024-12-02T20:11:22.666Z"
   },
   {
    "duration": 704,
    "start_time": "2024-12-02T20:11:22.991Z"
   },
   {
    "duration": 311,
    "start_time": "2024-12-02T20:13:28.270Z"
   },
   {
    "duration": 236,
    "start_time": "2024-12-02T20:20:33.411Z"
   },
   {
    "duration": 560,
    "start_time": "2024-12-02T20:23:54.803Z"
   },
   {
    "duration": 579,
    "start_time": "2024-12-02T20:24:25.455Z"
   },
   {
    "duration": 762,
    "start_time": "2024-12-02T20:35:51.948Z"
   },
   {
    "duration": 110,
    "start_time": "2024-12-02T20:35:52.712Z"
   },
   {
    "duration": 87,
    "start_time": "2024-12-02T20:35:52.824Z"
   },
   {
    "duration": 74,
    "start_time": "2024-12-02T20:35:52.913Z"
   },
   {
    "duration": 23,
    "start_time": "2024-12-02T20:35:52.989Z"
   },
   {
    "duration": 5,
    "start_time": "2024-12-02T20:35:53.014Z"
   },
   {
    "duration": 7,
    "start_time": "2024-12-02T20:35:53.020Z"
   },
   {
    "duration": 280,
    "start_time": "2024-12-02T20:35:53.029Z"
   },
   {
    "duration": 220,
    "start_time": "2024-12-02T20:35:53.310Z"
   },
   {
    "duration": 72,
    "start_time": "2024-12-02T20:35:53.534Z"
   },
   {
    "duration": 5,
    "start_time": "2024-12-02T20:35:53.608Z"
   },
   {
    "duration": 162,
    "start_time": "2024-12-02T20:35:53.615Z"
   },
   {
    "duration": 50,
    "start_time": "2024-12-02T20:35:53.778Z"
   },
   {
    "duration": 6,
    "start_time": "2024-12-02T20:35:53.829Z"
   },
   {
    "duration": 4,
    "start_time": "2024-12-02T20:35:53.837Z"
   },
   {
    "duration": 22,
    "start_time": "2024-12-02T20:35:53.842Z"
   },
   {
    "duration": 66,
    "start_time": "2024-12-02T20:35:53.886Z"
   },
   {
    "duration": 284,
    "start_time": "2024-12-02T20:35:53.954Z"
   },
   {
    "duration": 546,
    "start_time": "2024-12-02T20:35:54.240Z"
   },
   {
    "duration": 780,
    "start_time": "2024-12-02T20:46:27.351Z"
   },
   {
    "duration": 105,
    "start_time": "2024-12-02T20:46:28.133Z"
   },
   {
    "duration": 85,
    "start_time": "2024-12-02T20:46:28.240Z"
   },
   {
    "duration": 77,
    "start_time": "2024-12-02T20:46:28.327Z"
   },
   {
    "duration": 22,
    "start_time": "2024-12-02T20:46:28.406Z"
   },
   {
    "duration": 5,
    "start_time": "2024-12-02T20:46:28.430Z"
   },
   {
    "duration": 5,
    "start_time": "2024-12-02T20:46:28.437Z"
   },
   {
    "duration": 264,
    "start_time": "2024-12-02T20:46:28.444Z"
   },
   {
    "duration": 215,
    "start_time": "2024-12-02T20:46:28.709Z"
   },
   {
    "duration": 64,
    "start_time": "2024-12-02T20:46:28.926Z"
   },
   {
    "duration": 6,
    "start_time": "2024-12-02T20:46:28.992Z"
   },
   {
    "duration": 170,
    "start_time": "2024-12-02T20:46:28.999Z"
   },
   {
    "duration": 49,
    "start_time": "2024-12-02T20:46:29.171Z"
   },
   {
    "duration": 6,
    "start_time": "2024-12-02T20:46:29.223Z"
   },
   {
    "duration": 4,
    "start_time": "2024-12-02T20:46:29.231Z"
   },
   {
    "duration": 21,
    "start_time": "2024-12-02T20:46:29.236Z"
   },
   {
    "duration": 87,
    "start_time": "2024-12-02T20:46:29.259Z"
   },
   {
    "duration": 299,
    "start_time": "2024-12-02T20:46:29.348Z"
   },
   {
    "duration": 555,
    "start_time": "2024-12-02T20:46:29.649Z"
   },
   {
    "duration": 868,
    "start_time": "2024-12-03T19:04:40.556Z"
   },
   {
    "duration": 128,
    "start_time": "2024-12-03T19:04:41.425Z"
   },
   {
    "duration": 86,
    "start_time": "2024-12-03T19:04:41.555Z"
   },
   {
    "duration": 75,
    "start_time": "2024-12-03T19:04:41.644Z"
   },
   {
    "duration": 22,
    "start_time": "2024-12-03T19:04:41.721Z"
   },
   {
    "duration": 7,
    "start_time": "2024-12-03T19:04:41.744Z"
   },
   {
    "duration": 6,
    "start_time": "2024-12-03T19:04:41.752Z"
   },
   {
    "duration": 252,
    "start_time": "2024-12-03T19:04:41.761Z"
   },
   {
    "duration": 210,
    "start_time": "2024-12-03T19:04:42.015Z"
   },
   {
    "duration": 62,
    "start_time": "2024-12-03T19:04:42.229Z"
   },
   {
    "duration": 18,
    "start_time": "2024-12-03T19:04:42.292Z"
   },
   {
    "duration": 157,
    "start_time": "2024-12-03T19:04:42.311Z"
   },
   {
    "duration": 48,
    "start_time": "2024-12-03T19:04:42.469Z"
   },
   {
    "duration": 7,
    "start_time": "2024-12-03T19:04:42.518Z"
   },
   {
    "duration": 5,
    "start_time": "2024-12-03T19:04:42.526Z"
   },
   {
    "duration": 19,
    "start_time": "2024-12-03T19:04:42.533Z"
   },
   {
    "duration": 85,
    "start_time": "2024-12-03T19:04:42.554Z"
   },
   {
    "duration": 284,
    "start_time": "2024-12-03T19:04:42.641Z"
   },
   {
    "duration": 557,
    "start_time": "2024-12-03T19:04:42.927Z"
   },
   {
    "duration": 7,
    "start_time": "2024-12-03T19:18:47.853Z"
   }
  ],
  "kernelspec": {
   "display_name": "Python 3 (ipykernel)",
   "language": "python",
   "name": "python3"
  },
  "language_info": {
   "codemirror_mode": {
    "name": "ipython",
    "version": 3
   },
   "file_extension": ".py",
   "mimetype": "text/x-python",
   "name": "python",
   "nbconvert_exporter": "python",
   "pygments_lexer": "ipython3",
   "version": "3.9.19"
  },
  "toc": {
   "base_numbering": 1,
   "nav_menu": {},
   "number_sections": true,
   "sideBar": true,
   "skip_h1_title": true,
   "title_cell": "Table of Contents",
   "title_sidebar": "Contents",
   "toc_cell": false,
   "toc_position": {
    "height": "calc(100% - 180px)",
    "left": "10px",
    "top": "150px",
    "width": "176.4px"
   },
   "toc_section_display": true,
   "toc_window_display": true
  }
 },
 "nbformat": 4,
 "nbformat_minor": 2
}
